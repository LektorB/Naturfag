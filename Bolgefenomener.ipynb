{
 "cells": [
  {
   "cell_type": "markdown",
   "id": "3b8f015a-b066-4517-99a8-b3b7a7c14756",
   "metadata": {},
   "source": [
    "# Bølgefenomener\n",
    "Under finner du en samling av små simuleringer og animasjoner som viser ulike bølgefenomener. Foreløpig er det ingen oppgaver til simuleringene. Kjør kodesnuttene og lek med glideren og se om de hjelper deg til å forstå de ulike bølgefenommenene bedre.\n",
    "\n",
    "\n",
    "## Overlagring 1\n",
    "To bølger som møtes kolliderer ikke, vi sier at de overlagrer. Det vil si at vi får en ny bølge som er summen av de to enkeltbølgene\n",
    "Programmet under lager en liten modell av to bølgepulser som møtes. \n",
    "Kjør koden og trykk på playknappen for å spill av.\n",
    "Stoppknappen reseter modellen og den siste knappen kjører modellen i loop.\n",
    "Bruk gliderene for å endre amplitude og bølgelengde til den ene pulsen. \n",
    "\n",
    "Hvordan må pulsene se ut for å få full utslukking i et lite øyeblikk?\n",
    "                                   "
   ]
  },
  {
   "cell_type": "code",
   "execution_count": 1,
   "id": "dfeb719c-2709-4894-a44e-e630c6bed618",
   "metadata": {},
   "outputs": [
    {
     "data": {
      "application/vnd.jupyter.widget-view+json": {
       "model_id": "34cfff91d773410d9a9d624610130f4c",
       "version_major": 2,
       "version_minor": 0
      },
      "text/plain": [
       "interactive(children=(FloatSlider(value=2.0, description='Amplitude', max=5.0, min=-5.0), FloatSlider(value=2.…"
      ]
     },
     "metadata": {},
     "output_type": "display_data"
    }
   ],
   "source": [
    "import numpy as np\n",
    "import matplotlib.pyplot as plt\n",
    "import ipywidgets as widgets\n",
    "\n",
    "def plot_linje(a,b,i):\n",
    "    b = (2*np.pi)/b\n",
    "    def f(x,i,b):\n",
    "        return np.piecewise(x, [x < i/10, (i/10<x) & (x<i/10 + (np.pi)/b),x>=i/10 + (np.pi)/b], \n",
    "                            [lambda x: 0, lambda x: a*np.sin(b*x-b*i/10),lambda x: 0])\n",
    "    def g(x,i,b=1,a=2):\n",
    "        return np.piecewise(x, [x < 10 - i/10 - (np.pi)/b, (10-i/10 - (np.pi)/b<x) & (x<10-i/10), x>=10 - i/10 ], \n",
    "                            [lambda x: 0, lambda x: -a*np.sin(b*x-b*(10-i/10)),lambda x: 0])\n",
    "   \n",
    "    \n",
    "    \n",
    "    x = np.linspace(0,10,300)\n",
    "    y = f(x,i,b)     \n",
    "    y2 = g(x,i) \n",
    "    plt.plot(x,y,'b')\n",
    "    plt.plot(x,y2+5,'b')\n",
    "    plt.plot(x,y+y2-5,'b')\n",
    "    plt.ylim(-10,10)\n",
    "\n",
    "widgets.interact(plot_linje, \n",
    "                 a=widgets.FloatSlider(min=-5, max=5, value=2, description='Amplitude'), \n",
    "                 b=widgets.FloatSlider(min=1, max=10, value=2,description='Bølgelengde'),\n",
    "                 i=widgets.Play(min=0, max=99,intervall = 3000)\n",
    "                );\n"
   ]
  },
  {
   "cell_type": "markdown",
   "id": "697065f5-a4ae-4805-9a28-eacb75071343",
   "metadata": {},
   "source": [
    "## Overlagring 2\n",
    "Simuleringen under viser et øyebliksbilde av to bølger som overlagrer.\n",
    "I grafen til venstre vises bølgene hver for seg, mens grafen til høyre viser summen av de to.\n",
    "Det er mulig å endre egenskapene til den ene bølgen ved hjelp av glidere. (om du vil endre den andre også må du endre parametrene A, k og c i koden"
   ]
  },
  {
   "cell_type": "code",
   "execution_count": 20,
   "id": "01bd02fb-a47a-4b30-9966-89edce1b1be3",
   "metadata": {},
   "outputs": [
    {
     "data": {
      "application/vnd.jupyter.widget-view+json": {
       "model_id": "50ff050bf748429ebf686351169fe7e4",
       "version_major": 2,
       "version_minor": 0
      },
      "text/plain": [
       "interactive(children=(FloatSlider(value=1.0, description='Amplitude', max=10.0), FloatSlider(value=1.0, descri…"
      ]
     },
     "metadata": {},
     "output_type": "display_data"
    }
   ],
   "source": [
    "import numpy as np\n",
    "import matplotlib.pyplot as plt\n",
    "import ipywidgets as widgets\n",
    " \n",
    "#Definere funksjoner for utregning av bølgene:\n",
    "def f(A,k,x,c):\n",
    "    return A*np.sin(((2*np.pi)/k)*x-np.radians(c))\n",
    "\n",
    "\n",
    "#Parametre som bestemmer den blå bølgen, hver så god å endre på disse:\n",
    "A, k, c = 2, 10, 0   \n",
    "\n",
    "def plot_bølger(A2,k2,c2):\n",
    "    #Bølgene hver for seg:\n",
    "    fig = plt.figure(figsize=(10,5))\n",
    "    ax1 = fig.add_subplot(121)\n",
    "    ax1.grid(True)\n",
    "    ax1.set_title('Bølgene hver for seg')\n",
    "    \n",
    "    x = np.linspace(0, 8*np.pi, 1000)\n",
    "    plt.ylim(-10,10)\n",
    "    \n",
    "    ax1.plot(x,f(A,k,x,c))\n",
    "    ax1.plot(x,f(A2,k2,x,c2))\n",
    "    \n",
    "    #Bølgene overlagret:\n",
    "    #fig = plt.figure()\n",
    "    ax2 = fig.add_subplot(122)\n",
    "    ax2.grid(True)\n",
    "    ax2.set_title('Summen av bølgene')\n",
    "  \n",
    "    plt.ylim(-10,10)\n",
    "    \n",
    "    ax2.plot(x,f(A,k,x,c)+f(A2,k2,x,c2))\n",
    "    plt.show()\n",
    "\n",
    "\n",
    "widgets.interact(plot_bølger, A2=widgets.FloatSlider(min=0,max = 10,step=0.1,description='Amplitude',value=1),\n",
    "                  k2=widgets.FloatSlider(min=0.1,max = 20,step=0.1,description='Bølgelengde',value=1), \n",
    "                  c2=widgets.FloatSlider(min=0,max = 180,step=1,description='faseforskyv.',value=0,));\n"
   ]
  },
  {
   "cell_type": "markdown",
   "id": "5e2559a3-d3da-4998-8cc6-2e85d8d50849",
   "metadata": {},
   "source": [
    "## Dopplereffekt\n",
    "Modellen under gir en visualisering av dopplereffekten. Trykk på spill av knappen for å la bølgekilden bevege seg mot høyre. Machtallet avgjør hvor fort bølgekilden beveger seg relativt til bølgefarten. Med andre ord tilsvarer Mach 1 at kilden beveger seg med lydfarten, dersom bølgene er lydbølger."
   ]
  },
  {
   "cell_type": "code",
   "execution_count": 19,
   "id": "ed82c6d3-e51a-4a2e-a04e-8bf84e206ba3",
   "metadata": {},
   "outputs": [
    {
     "data": {
      "application/vnd.jupyter.widget-view+json": {
       "model_id": "7481546642ab46b7896169f4c661ed83",
       "version_major": 2,
       "version_minor": 0
      },
      "text/plain": [
       "interactive(children=(Play(value=0, description='i', max=30), FloatSlider(value=0.3, description='Machtall', m…"
      ]
     },
     "metadata": {},
     "output_type": "display_data"
    }
   ],
   "source": [
    "import matplotlib.pyplot as plt\n",
    "import numpy as np\n",
    "import ipywidgets as widgets\n",
    "\n",
    "def sirkel(thetha,xs,ys,r):\n",
    "    x = r*np.cos(thetha)+xs\n",
    "    y = r*np.sin(thetha)+ys\n",
    "    return x,y\n",
    "    \n",
    "vinkel = np.linspace(0,2*np.pi,100)\n",
    "\n",
    "def plott_sirkler(i,m):\n",
    "    radius = np.linspace(i,1,i)*(1/m)\n",
    "    xsentrum = np.arange(-5,-5+i,1)\n",
    "    \n",
    "    # Create a figure and axis\n",
    "    fig, ax = plt.subplots()\n",
    "    ax.set_xlim(-10, 40)\n",
    "    ax.set_ylim(-10, 10)\n",
    "    ax.set_aspect('equal')\n",
    "    ax.axis('off')\n",
    "\n",
    "    ax.plot([-5+i],[0],'.r')\n",
    "    \n",
    "    for n in range(i):\n",
    "        xverdier,yverdier = sirkel(vinkel,xsentrum[n],0,radius[n])\n",
    "        ax.plot(xverdier,yverdier,'k')\n",
    "\n",
    "widgets.interact(plott_sirkler, \n",
    "                 m=widgets.FloatSlider(min=0.1,max=1.2,value = 0.3, step = 0.01,description='Machtall'),\n",
    "                 i=widgets.Play(min=0, max=30,intervall = 3000, )\n",
    "                );"
   ]
  },
  {
   "cell_type": "markdown",
   "id": "cb77ece0-805f-4ba1-8d05-7f8df97e7e82",
   "metadata": {},
   "source": [
    "## Bryting\n",
    "Infoboksen under er hentet fra ndla, les kort om bryting og totalrefleksjon i infoboksen.\n",
    "\n",
    "https://ndla.no/r/naturfag-sf/brytning-og-overlagring---programmering/3926ef2b99 \n"
   ]
  },
  {
   "cell_type": "code",
   "execution_count": 8,
   "id": "36b5e308-1ddc-4edb-883b-ded7888f96d8",
   "metadata": {},
   "outputs": [
    {
     "data": {
      "text/html": [
       "<iframe src=\"https://www.h5p.ndla.no/s/resources/1b39bad1-2c5f-443c-97eb-14a0061d6316\" width=\"741\" height=\"442\" frameborder=\"0\" allowfullscreen=\"allowfullscreen\" allow=\"geolocation *; microphone *; camera *; midi *; encrypted-media *\" title=\"Lyset endrer fart og bølgelengde fra luft til vann\"></iframe><script src=\"https://ca.h5p.ndla.no/h5p-php-library/js/h5p-resizer.js\"></script>\n"
      ],
      "text/plain": [
       "<IPython.core.display.HTML object>"
      ]
     },
     "metadata": {},
     "output_type": "display_data"
    }
   ],
   "source": [
    "%%html\n",
    "<iframe src=\"https://www.h5p.ndla.no/s/resources/1b39bad1-2c5f-443c-97eb-14a0061d6316\" width=\"741\" height=\"442\" frameborder=\"0\" allowfullscreen=\"allowfullscreen\" allow=\"geolocation *; microphone *; camera *; midi *; encrypted-media *\" title=\"Lyset endrer fart og bølgelengde fra luft til vann\"></iframe><script src=\"https://ca.h5p.ndla.no/h5p-php-library/js/h5p-resizer.js\"></script>"
   ]
  },
  {
   "cell_type": "markdown",
   "id": "3ca857e3-3219-4b3c-8dc0-7d65bc7b43f9",
   "metadata": {},
   "source": [
    "## Modell av totalrefleksjon.\n",
    "Kjør kodesnutten under og lek med modellen som viser hvordan lys brytes når det det går fra vann til luft. Modellen viser også hvordan andelen av lyset som reflekteres er avhengig av innfalsvinkelen."
   ]
  },
  {
   "cell_type": "code",
   "execution_count": 6,
   "id": "22979712-730a-4f3e-9175-21f5fe029d4f",
   "metadata": {},
   "outputs": [
    {
     "data": {
      "application/vnd.jupyter.widget-view+json": {
       "model_id": "5c24ff9e784449399671bda784cca164",
       "version_major": 2,
       "version_minor": 0
      },
      "text/plain": [
       "interactive(children=(FloatSlider(value=43.0, description='Innfalsvinkel', max=60.0, step=0.01), Output()), _d…"
      ]
     },
     "metadata": {},
     "output_type": "display_data"
    }
   ],
   "source": [
    "import numpy as np\n",
    "import matplotlib.pyplot as plt\n",
    "from ipywidgets import interact, interact_manual\n",
    "import ipywidgets as widgets\n",
    "\n",
    "def plot_refraction(theta1):\n",
    "    n1 = 1.33\n",
    "    n2 = 1.0\n",
    "    theta1 = np.radians(theta1)\n",
    "\n",
    "\n",
    "    #tegner innfallende stråle\n",
    "    x = np.array([-np.tan(theta1), 0 ])\n",
    "    y = np.array([-1, 0])\n",
    "    plt.plot(x, y, 'r-')\n",
    "\n",
    "    #tester om vi har totalrefleksjon\n",
    "    if n1/n2*np.sin(theta1) < 1:\n",
    "        theta2 = np.arcsin(n1/n2*np.sin(theta1))\n",
    "        #regner ut hvor mange prosent av lyset som blir reflektert (R) og transmittert (T)\n",
    "        R = ((n1*np.cos(theta1)-n2*np.cos(theta2))/(n1*np.cos(theta1)+n2*np.cos(theta2)))**2\n",
    "        T = 1-R       \n",
    "        \n",
    "        # tegner transmiterte stråle\n",
    "        xt = np.array([ 0, np.tan(theta2) ])\n",
    "        yt = np.array([ 0,1 ])\n",
    "        plt.plot(xt, yt, 'r-',linewidth=1.5*T)\n",
    "    \n",
    "    else:\n",
    "        R = 1 \n",
    "        \n",
    "    #tegner reflekterete stråle\n",
    "    xr = np.array([np.tan(theta1), 0 ])\n",
    "    yr = np.array([-1, 0])\n",
    "    plt.plot(xr, yr, 'r-',linewidth=R*1.5) \n",
    "\n",
    "    #tegner innfallslodd\n",
    "    plt.plot([0,0],[-1,1],'k--')\n",
    "    plt.plot(-0.88*np.tan(theta1), -0.88, 'ro')\n",
    "  \n",
    "    plt.xlim(-1.8, 1.8)\n",
    "    plt.ylim(-0.9, 0.9)\n",
    "\n",
    "    # lag lyseblått rektangel i nedre halvdel\n",
    "    plt.fill_between([-2,2], [-0.9,-0.9],[0,0],  color='lightblue')\n",
    "\n",
    "    #fjern akser\n",
    "    plt.axis('off')\n",
    "    plt.show();\n",
    "\n",
    "widgets.interact(plot_refraction, theta1=widgets.FloatSlider(min=0,max = 60,step=0.01,description='Innfalsvinkel',value=43));"
   ]
  },
  {
   "cell_type": "markdown",
   "id": "c1cf3b87-8538-4809-9a3b-cbb5f281f320",
   "metadata": {},
   "source": [
    "## Interferens\n",
    "Her er to visualiseringer av interferensforsøket som vi har gjort både med lyd i klasserommet og med vannbølger i et bølgekar. \n",
    "\n",
    "Den første er litt enklere og kjører derfor fort. Den andre er mer regneintensiv, kan ta litt tid å kjøre og kan hakke litt.  \n",
    "Eksperimenter med bølgelender og avstanden mellom bølgekildene/høytalerene for å se hvordan mønsteret påvirkes.\n",
    "\n",
    "**NB** Denne siste modellen trenger modulen seaborn for å virke, det er ikke alle pakker som har den ferdig installert.\n"
   ]
  },
  {
   "cell_type": "code",
   "execution_count": 18,
   "id": "6e042474",
   "metadata": {},
   "outputs": [
    {
     "data": {
      "application/vnd.jupyter.widget-view+json": {
       "model_id": "7f71e1adec83484faf9078ff1dd71b3c",
       "version_major": 2,
       "version_minor": 0
      },
      "text/plain": [
       "interactive(children=(FloatSlider(value=0.3, description='Bølgelengde', max=3.0, min=0.1, step=0.01), FloatSli…"
      ]
     },
     "metadata": {},
     "output_type": "display_data"
    }
   ],
   "source": [
    "import matplotlib.pyplot as plt\n",
    "import numpy as np\n",
    "import ipywidgets as widgets\n",
    "\n",
    "def sirkel(thetha,xs,ys,r):\n",
    "    x = r*np.cos(thetha)+xs\n",
    "    y = r*np.sin(thetha)+ys\n",
    "    return x,y\n",
    "    \n",
    "vinkel = np.linspace(0,2*np.pi,100)\n",
    "\n",
    "def plott_sirkler(m,r):\n",
    "    radius = np.arange(0,15,m)\n",
    "    #xsentrum = np.arange(-5,-5+i,1)\n",
    "    \n",
    "    # Create a figure and axis\n",
    "    fig, ax = plt.subplots()\n",
    "    ax.set_xlim(-10, 10)\n",
    "    ax.set_ylim(-10, 10)\n",
    "    ax.set_aspect('equal')\n",
    "    ax.axis('off')\n",
    "\n",
    "    ax.plot([-r],[0],'.r')\n",
    "    ax.plot([r],[0],'.r')\n",
    "\n",
    "    \n",
    "    for n in range(len(radius)):\n",
    "        xverdier,yverdier = sirkel(vinkel,0,0,radius[n])\n",
    "        ax.plot(xverdier-r,yverdier,'k')\n",
    "        ax.plot(xverdier+r,yverdier,'k')\n",
    "\n",
    "widgets.interact(plott_sirkler, \n",
    "                 m=widgets.FloatSlider(min=0.1,max=3,value = 0.3, step = 0.01,description='Bølgelengde'),\n",
    "                 r=widgets.FloatSlider(min=0.1,max=3,value = 0.3, step = 0.01,description='Avstand'),\n",
    "                );"
   ]
  },
  {
   "cell_type": "code",
   "execution_count": null,
   "id": "acd7d57d-f9ee-4dcc-b602-4ddbe9d55252",
   "metadata": {},
   "outputs": [
    {
     "data": {
      "application/vnd.jupyter.widget-view+json": {
       "model_id": "dc773af9a44442b58940fd279eb316d9",
       "version_major": 2,
       "version_minor": 0
      },
      "text/plain": [
       "interactive(children=(FloatSlider(value=1.0, description='Bolgelengde', max=1.25, min=0.25), FloatSlider(value…"
      ]
     },
     "execution_count": 5,
     "metadata": {},
     "output_type": "execute_result"
    }
   ],
   "source": [
    "import numpy as np\n",
    "import matplotlib.pyplot as plt\n",
    "from ipywidgets import interactive\n",
    "import seaborn as sns\n",
    "\n",
    "x=np.linspace(0,10,100)\n",
    "y=np.linspace(0,10,100)\n",
    "\n",
    "x,y=np.meshgrid(x,y)\n",
    "\n",
    "def f(A,B,C,D):\n",
    "    return np.sin(C*np.sqrt((A-D)**2+(B)**2))\n",
    "\n",
    "\n",
    "def plotting(Bolgelengde=1,Avstand=2):\n",
    "    D=5-Avstand\n",
    "    C=2*np.pi/Bolgelengde\n",
    "    fig, (ax1, ax2, ax3) = plt.subplots(1, 3, figsize = (13,6))\n",
    "    z1=f(x,y,C,D)\n",
    "    g1=sns.heatmap(z1,ax=ax1,cbar=False)\n",
    "    #g1.invert_yaxis()\n",
    "    g1.set_yticks([])\n",
    "    g1.set_xticks([])\n",
    "    g1.set_aspect('equal', adjustable='box')\n",
    "    g1.set_title('venstre høytaler')\n",
    "    \n",
    "    z2=f(10-x,y,C,D)\n",
    "    g2=sns.heatmap(z2,ax=ax2,cbar=False)\n",
    "    #g2.invert_yaxis()\n",
    "    g2.set_yticks([])\n",
    "    g2.set_xticks([])\n",
    "    g2.set_aspect('equal', adjustable='box')\n",
    "    g2.set_title('Høyre høytaler')\n",
    "    \n",
    "    g3=sns.heatmap(z2+z1,ax=ax3,cbar=False)\n",
    "    #g3.invert_yaxis()\n",
    "    g3.set_yticks([])\n",
    "    g3.set_xticks([])\n",
    "    g3.set_aspect('equal', adjustable='box')\n",
    "    g3.set_title('Begge høytalere')\n",
    "\n",
    "interactive_plot=interactive(plotting,Bolgelengde=(0.25,1.25,0.1),Avstand=(0.05,2,.05))\n",
    "interactive_plot"
   ]
  },
  {
   "cell_type": "code",
   "execution_count": null,
   "id": "da545c28-b18a-4485-ad6e-6007e0070648",
   "metadata": {},
   "outputs": [],
   "source": []
  }
 ],
 "metadata": {
  "kernelspec": {
   "display_name": "base",
   "language": "python",
   "name": "python3"
  },
  "language_info": {
   "codemirror_mode": {
    "name": "ipython",
    "version": 3
   },
   "file_extension": ".py",
   "mimetype": "text/x-python",
   "name": "python",
   "nbconvert_exporter": "python",
   "pygments_lexer": "ipython3",
   "version": "3.11.10"
  }
 },
 "nbformat": 4,
 "nbformat_minor": 5
}
