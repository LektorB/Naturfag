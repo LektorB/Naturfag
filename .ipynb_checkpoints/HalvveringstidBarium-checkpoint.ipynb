{
 "cells": [
  {
   "cell_type": "markdown",
   "id": "a5ddc44e-66f5-4c22-a653-027ecabcbfc6",
   "metadata": {},
   "source": [
    "# Halvveringstid til Barium 137m\n",
    "Vi leser inn målingene, gjør en kurvetilpassing og beregner halvveringstiden fra denne modellen.\n",
    "Her er starten av programmet, vi gjør det ferdig sammen."
   ]
  },
  {
   "cell_type": "code",
   "execution_count": null,
   "id": "6c4bc643-8d31-4fba-894b-5c1fee8157c3",
   "metadata": {},
   "outputs": [],
   "source": [
    "# importere bibliotek\n",
    "import numpy as np\n",
    "import matplotlib.pyplot as plt\n",
    "from scipy.optimize import curve_fit\n",
    "from scipy.optimize import fsolve\n",
    "\n",
    "Bakgrunn = 7  # bakgrunnsstråling\n",
    "\n",
    "# importere data fra fil\n",
    "url =   'https://raw.githubusercontent.com/LektorB/Naturfag/refs/heads/main/Data/Barium1std2025.txt'\n",
    "Data = np.loadtxt(url, skiprows=6, delimiter='\\t')\n",
    "\n",
    "#deler opp dataene i to arrayer og korrigere for bakgrunnsstråling\n",
    "Tid = Data[:,0]\n",
    "Tellinger = Data[:,1] - Bakgrunn\n",
    "\n",
    "# lage en modell for dataene\n",
    "def f(x, a, b):\n",
    "    return a * b**x\n",
    "\n",
    "popt, pcov = curve_fit(f, Tid, Tellinger) # finne parametrene a og b \n",
    "\n",
    "# plotte dataene og modellen\n",
    "plt.plot(Tid, Tellinger, 'o', label='Data')\n",
    "\n",
    "modeltid = np.linspace(0, max(Tid)*1.1, 200)\n",
    "plt.plot(modeltid, f(modeltid, *popt), label='Modell')\n",
    "\n"
   ]
  }
 ],
 "metadata": {
  "kernelspec": {
   "display_name": "Python 3 (ipykernel)",
   "language": "python",
   "name": "python3"
  },
  "language_info": {
   "codemirror_mode": {
    "name": "ipython",
    "version": 3
   },
   "file_extension": ".py",
   "mimetype": "text/x-python",
   "name": "python",
   "nbconvert_exporter": "python",
   "pygments_lexer": "ipython3",
   "version": "3.11.10"
  }
 },
 "nbformat": 4,
 "nbformat_minor": 5
}
