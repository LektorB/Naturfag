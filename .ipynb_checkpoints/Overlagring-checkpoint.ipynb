{
 "cells": [
  {
   "cell_type": "markdown",
   "id": "3b8f015a-b066-4517-99a8-b3b7a7c14756",
   "metadata": {},
   "source": [
    "# Overlagring\n",
    "Programmet under lager en liten modell av to bølgepulser som møtes. \n",
    "Kjør koden og trykk på playknappen for å spill av.\n",
    "Stoppknappen reseter modellen og den siste knappen kjører modellen i loop.\n",
    "Bruk gliderene for å endre amplitude og bølgelengde til den ene pulsen. \n",
    "\n",
    "Hvordan må pulsene se ut for å få full utslukking i et lite øyeblikk?\n",
    "                                   "
   ]
  },
  {
   "cell_type": "code",
   "execution_count": 1,
   "id": "dfeb719c-2709-4894-a44e-e630c6bed618",
   "metadata": {},
   "outputs": [
    {
     "data": {
      "application/vnd.jupyter.widget-view+json": {
       "model_id": "36f33c14c8ad4211a96bf70d0fba2818",
       "version_major": 2,
       "version_minor": 0
      },
      "text/plain": [
       "interactive(children=(FloatSlider(value=2.0, description='Amplitude', max=5.0, min=-5.0), FloatSlider(value=2.…"
      ]
     },
     "metadata": {},
     "output_type": "display_data"
    }
   ],
   "source": [
    "import numpy as np\n",
    "import matplotlib.pyplot as plt\n",
    "import ipywidgets as widgets\n",
    "\n",
    "def plot_linje(a,b,i):\n",
    "    b = (2*np.pi)/b\n",
    "    def f(x,i,b):\n",
    "        return np.piecewise(x, [x < i/10, (i/10<x) & (x<i/10 + (np.pi)/b),x>=i/10 + (np.pi)/b], \n",
    "                            [lambda x: 0, lambda x: a*np.sin(b*x-b*i/10),lambda x: 0])\n",
    "    def g(x,i,b=1,a=2):\n",
    "        return np.piecewise(x, [x < 10 - i/10 - (np.pi)/b, (10-i/10 - (np.pi)/b<x) & (x<10-i/10), x>=10 - i/10 ], \n",
    "                            [lambda x: 0, lambda x: -a*np.sin(b*x-b*(10-i/10)),lambda x: 0])\n",
    "   \n",
    "    \n",
    "    \n",
    "    x = np.linspace(0,10,300)\n",
    "    y = f(x,i,b)     \n",
    "    y2 = g(x,i) \n",
    "    plt.plot(x,y,'b')\n",
    "    plt.plot(x,y2+5,'b')\n",
    "    plt.plot(x,y+y2-5,'b')\n",
    "    plt.ylim(-10,10)\n",
    "\n",
    "widgets.interact(plot_linje, \n",
    "                 a=widgets.FloatSlider(min=-5, max=5, value=2, description='Amplitude'), \n",
    "                 b=widgets.FloatSlider(min=1, max=10, value=2,description='Bølgelengde'),\n",
    "                 i=widgets.Play(min=0, max=99,intervall = 1000)\n",
    "                );\n"
   ]
  },
  {
   "cell_type": "markdown",
   "id": "cb77ece0-805f-4ba1-8d05-7f8df97e7e82",
   "metadata": {},
   "source": [
    "# Bryting\n",
    "Infoboksen under er hentet fra ndla, les kort om totalrefleksjon i infoboksen.\n",
    "\n",
    "https://ndla.no/r/naturfag-sf/brytning-og-overlagring---programmering/3926ef2b99 \n"
   ]
  },
  {
   "cell_type": "code",
   "execution_count": 2,
   "id": "36b5e308-1ddc-4edb-883b-ded7888f96d8",
   "metadata": {},
   "outputs": [
    {
     "data": {
      "text/html": [
       "<iframe src=\"https://www.h5p.ndla.no/s/resources/1b39bad1-2c5f-443c-97eb-14a0061d6316\" width=\"741\" height=\"442\" frameborder=\"0\" allowfullscreen=\"allowfullscreen\" allow=\"geolocation *; microphone *; camera *; midi *; encrypted-media *\" title=\"Lyset endrer fart og bølgelengde fra luft til vann\"></iframe><script src=\"https://ca.h5p.ndla.no/h5p-php-library/js/h5p-resizer.js\"></script>\n"
      ],
      "text/plain": [
       "<IPython.core.display.HTML object>"
      ]
     },
     "metadata": {},
     "output_type": "display_data"
    }
   ],
   "source": [
    "%%html\n",
    "<iframe src=\"https://www.h5p.ndla.no/s/resources/1b39bad1-2c5f-443c-97eb-14a0061d6316\" width=\"741\" height=\"442\" frameborder=\"0\" allowfullscreen=\"allowfullscreen\" allow=\"geolocation *; microphone *; camera *; midi *; encrypted-media *\" title=\"Lyset endrer fart og bølgelengde fra luft til vann\"></iframe><script src=\"https://ca.h5p.ndla.no/h5p-php-library/js/h5p-resizer.js\"></script>"
   ]
  },
  {
   "cell_type": "markdown",
   "id": "3ca857e3-3219-4b3c-8dc0-7d65bc7b43f9",
   "metadata": {},
   "source": [
    "# Modell av totalrefleksjon.\n",
    "Kjør kodesnutten under og lek med modellen som viser hvordan lys brytes når det det går fra vann til luft. Modellen viser også hvordan andelen av lyset som reflekteres er avhengig av innfalsvinkelen."
   ]
  },
  {
   "cell_type": "code",
   "execution_count": 10,
   "id": "22979712-730a-4f3e-9175-21f5fe029d4f",
   "metadata": {},
   "outputs": [
    {
     "data": {
      "application/vnd.jupyter.widget-view+json": {
       "model_id": "a20316d590874d4a84ffe5a12ad0f7bd",
       "version_major": 2,
       "version_minor": 0
      },
      "text/plain": [
       "interactive(children=(FloatSlider(value=30.0, description='Innfalsvinkel', max=60.0, step=0.01), Output()), _d…"
      ]
     },
     "metadata": {},
     "output_type": "display_data"
    }
   ],
   "source": [
    "import numpy as np\n",
    "import matplotlib.pyplot as plt\n",
    "from ipywidgets import interact, interact_manual\n",
    "import ipywidgets as widgets\n",
    "\n",
    "def plot_refraction(theta1):\n",
    "    n1 = 1.33\n",
    "    n2 = 1.0\n",
    "    theta1 = np.radians(theta1)\n",
    "\n",
    "\n",
    "    #tegner innfallende stråle\n",
    "    x = np.array([-np.tan(theta1), 0 ])\n",
    "    y = np.array([-1, 0])\n",
    "    plt.plot(x, y, 'r-')\n",
    "\n",
    "    #tester om vi har totalrefleksjon\n",
    "    if n1/n2*np.sin(theta1) < 1:\n",
    "        theta2 = np.arcsin(n1/n2*np.sin(theta1))\n",
    "        #regner ut hvor mange prosent av lyset som blir reflektert (R) og transmittert (T)\n",
    "        R = ((n1*np.cos(theta1)-n2*np.cos(theta2))/(n1*np.cos(theta1)+n2*np.cos(theta2)))**2\n",
    "        T = 1-R       \n",
    "        \n",
    "        # tegner transmiterte stråle\n",
    "        xt = np.array([ 0, np.tan(theta2) ])\n",
    "        yt = np.array([ 0,1 ])\n",
    "        plt.plot(xt, yt, 'r-',linewidth=1.5*T)\n",
    "    \n",
    "    else:\n",
    "        R = 1 \n",
    "        \n",
    "    #tegner reflekterete stråle\n",
    "    xr = np.array([np.tan(theta1), 0 ])\n",
    "    yr = np.array([-1, 0])\n",
    "    plt.plot(xr, yr, 'r-',linewidth=R*1.5) \n",
    "\n",
    "    #tegner innfallslodd\n",
    "    plt.plot([0,0],[-1,1],'k--')\n",
    "    plt.plot(-0.88*np.tan(theta1), -0.88, 'ro')\n",
    "  \n",
    "    plt.xlim(-1.8, 1.8)\n",
    "    plt.ylim(-0.9, 0.9)\n",
    "\n",
    "    # lag lyseblått rektangel i nedre halvdel\n",
    "    plt.fill_between([-2,2], [-0.9,-0.9],[0,0],  color='lightblue')\n",
    "\n",
    "    #fjern akser\n",
    "    plt.axis('off')\n",
    "    plt.show();\n",
    "\n",
    "widgets.interact(plot_refraction, theta1=widgets.FloatSlider(min=0,max = 60,step=0.01,description='Innfalsvinkel',value=30));"
   ]
  },
  {
   "cell_type": "markdown",
   "id": "c1cf3b87-8538-4809-9a3b-cbb5f281f320",
   "metadata": {},
   "source": [
    "# Interferens\n",
    "Her er en visualisering av interferensforsøket som vi har gjort både med lyd og bølgekar. \n",
    "Det er en litt tung visualisering så programmet kan ta litt tid før det vises. Eksperimenter med bølgelender og avstanden mellom bølgekildene/høytalerene for å se hvordan mønsteret påvirkes:\n"
   ]
  },
  {
   "cell_type": "code",
   "execution_count": 11,
   "id": "acd7d57d-f9ee-4dcc-b602-4ddbe9d55252",
   "metadata": {},
   "outputs": [
    {
     "data": {
      "application/vnd.jupyter.widget-view+json": {
       "model_id": "ac297ddcd63749c5a5c44d4f2034ec2e",
       "version_major": 2,
       "version_minor": 0
      },
      "text/plain": [
       "interactive(children=(FloatSlider(value=1.0, description='Bolgelengde', max=1.25, min=0.25), FloatSlider(value…"
      ]
     },
     "execution_count": 11,
     "metadata": {},
     "output_type": "execute_result"
    }
   ],
   "source": [
    "import numpy as np\n",
    "import matplotlib.pyplot as plt\n",
    "from ipywidgets import interactive\n",
    "import seaborn as sns\n",
    "\n",
    "x=np.linspace(0,10,100)\n",
    "y=np.linspace(0,10,100)\n",
    "\n",
    "x,y=np.meshgrid(x,y)\n",
    "\n",
    "def f(A,B,C,D):\n",
    "    return np.sin(C*np.sqrt((A-D)**2+(B)**2))\n",
    "\n",
    "\n",
    "def plotting(Bolgelengde=1,Avstand=2):\n",
    "    D=5-Avstand\n",
    "    C=2*np.pi/Bolgelengde\n",
    "    fig, (ax1, ax2, ax3) = plt.subplots(1, 3, figsize = (13,6))\n",
    "    z1=f(x,y,C,D)\n",
    "    g1=sns.heatmap(z1,ax=ax1,cbar=False)\n",
    "    #g1.invert_yaxis()\n",
    "    g1.set_yticks([])\n",
    "    g1.set_xticks([])\n",
    "    g1.set_aspect('equal', adjustable='box')\n",
    "    g1.set_title('venstre høytaler')\n",
    "    \n",
    "    z2=f(10-x,y,C,D)\n",
    "    g2=sns.heatmap(z2,ax=ax2,cbar=False)\n",
    "    #g2.invert_yaxis()\n",
    "    g2.set_yticks([])\n",
    "    g2.set_xticks([])\n",
    "    g2.set_aspect('equal', adjustable='box')\n",
    "    g2.set_title('Høyre høytaler')\n",
    "    \n",
    "    g3=sns.heatmap(z2+z1,ax=ax3,cbar=False)\n",
    "    #g3.invert_yaxis()\n",
    "    g3.set_yticks([])\n",
    "    g3.set_xticks([])\n",
    "    g3.set_aspect('equal', adjustable='box')\n",
    "    g3.set_title('Begge høytalere')\n",
    "\n",
    "interactive_plot=interactive(plotting,Bolgelengde=(0.25,1.25,0.1),Avstand=(0.05,2,.05))\n",
    "interactive_plot"
   ]
  },
  {
   "cell_type": "code",
   "execution_count": null,
   "id": "da545c28-b18a-4485-ad6e-6007e0070648",
   "metadata": {},
   "outputs": [],
   "source": []
  }
 ],
 "metadata": {
  "kernelspec": {
   "display_name": "Python 3 (ipykernel)",
   "language": "python",
   "name": "python3"
  },
  "language_info": {
   "codemirror_mode": {
    "name": "ipython",
    "version": 3
   },
   "file_extension": ".py",
   "mimetype": "text/x-python",
   "name": "python",
   "nbconvert_exporter": "python",
   "pygments_lexer": "ipython3",
   "version": "3.11.10"
  }
 },
 "nbformat": 4,
 "nbformat_minor": 5
}
