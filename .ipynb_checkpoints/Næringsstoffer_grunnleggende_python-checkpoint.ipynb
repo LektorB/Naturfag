{
 "cells": [
  {
   "cell_type": "markdown",
   "metadata": {},
   "source": [
    "# Ditt første program\n",
    "De generelle oppgavene tar utgangspunkt i \"Innnføring i Python\" som du finner i bak i matematikkboken din. Det vil si at du kan finne ekstra hjelp og oppgaver der. Ellers lager vi oppgaver som tar utgangspunkt i det vi har lært om kosthold og energi i naturfag\n",
    "\n",
    "Vi skal kjøre kode i jupyter. I jupyter notboken kan du skrive Python-kode og kjøre den direkte i notboken. Hurtigknappen for å kjøre koden er `Shift + Enter`.\n",
    "\n",
    "Man kan også skrive tekst i notboken, som denne teksten. Teksten skrives i et format som heter markdown. For å endre en celle til markdown, velg \"Markdown\" i rullegardinmenyen øverst på siden. \n",
    "\n",
    "## Oppgave 1\n",
    "Det er en gammel tradisjon at det første programmet man lager i et nytt programmeringsspråk er et program som skriver ut \"Hei, verden!\" til skjermen. Dette er et enkelt program som sjekker at alt fungerer som det skal.\n",
    "\n",
    "  \n",
    "I en kodecelle under skriver du og kjører koden: \n",
    "```python\n",
    "print(\"Hei, verden!\")\n",
    "```\n",
    "\n",
    "\n"
   ]
  },
  {
   "cell_type": "code",
   "execution_count": null,
   "metadata": {},
   "outputs": [],
   "source": [
    "\n"
   ]
  },
  {
   "cell_type": "markdown",
   "metadata": {},
   "source": [
    "# Grunnleggende kommandoer i Python\n",
    "Her er noen grunnlegende kommandoer i Python:\n",
    "\n",
    "* Skrive til skjerm: print(\"tekst\")  \n",
    "* Skrive resultatet av en regneoperasjon: print(2+3)  \n",
    "* Kommentarer i koden: # dette er en kommentar  \n",
    "\n",
    "\n",
    "## Oppgave 2\n",
    "Skriv et program som skriver ut \"Regnstykket 2+3\" og deretter regner ut og skriver ut resultatet. \n",
    "    \n",
    "```python\n",
    "print(\"Regnestykket 2+3\")\n",
    "print(2+3)\n",
    "```\n",
    "Bruk # for å kommentere koden din. Kommentarer er tekst som ikke blir kjørt av Python"
   ]
  },
  {
   "cell_type": "code",
   "execution_count": null,
   "metadata": {},
   "outputs": [],
   "source": []
  },
  {
   "cell_type": "markdown",
   "metadata": {},
   "source": [
    "## Matematiske operatorer\n",
    "Addisjon: +  \n",
    "Subtraksjon: -  \n",
    "Multiplikasjon: *  \n",
    "Divisjon: /  \n",
    "Eksponent: **  \n",
    "Parenteser: ( )  \n",
    "Heltallsdivisjon: //  \n",
    "Rest: %  \n",
    "\n",
    "**NB:** desimaltall skrives med punktum, ikke komma.\n",
    "\n",
    "## Eksempler på matematiske operatorer\n",
    "Regnestykket\n",
    "$$3 + 4,53+\\frac{3^2-1}{2^3+1}$$ \n",
    "Kan regnes ut i python med koden: \n",
    "\n",
    "```python \n",
    "print(3 + 4.53 + (3**2 - 1)/(2**3 + 1))\n",
    "``` \n",
    "\n",
    "## Oppgave 3\n",
    "a) Test ut koden over.  \n",
    "b) Skriv et program som regner ut $ 3 + 4^2$ og skriver ut resultatet  \n",
    "c) Skriv et program som regner ut $ 4\\cdot 3^2 + 2\\cdot \\frac{1}{5+2^4}$ og skriver ut resultatet  \n",
    "\n",
    "## Oppgave 4\n",
    "Lag en ny kodecelle under løsningen din på oppgave 3\n",
    "Her kan du teste de to siste regneoperatorene i listen over.   \n",
    "Skriv et program som regner ut $ 5 // 2$ og skriver ut resultatet.   \n",
    "Skriv et program som regner ut $ 5 \\% 2$ og skriver ut resultatet. \n",
    " \n",
    "**Forstår du hva resultatet betyr?**\n",
    "\n"
   ]
  },
  {
   "cell_type": "code",
   "execution_count": null,
   "metadata": {},
   "outputs": [],
   "source": []
  },
  {
   "cell_type": "markdown",
   "metadata": {},
   "source": [
    "# Variabler\n",
    "En variabel er en plass i minnet som vi kan lagre data i. Vi kan tenke på en variabel som en boks som vi kan legge ting i. Vi kan gi boksen et navn, og vi kan endre innholdet i boksen.\n",
    "Vi oppretter en variabel ved å skrive variabelnavnet, deretter likhetstegn og variabelens verdi.\n",
    "\n",
    "## Eksempler med variabler\n",
    "```python\n",
    "a = 5 # variabelen a får verdien 5\n",
    "b = 3 # variabelen b får verdien 3\n",
    "c = a + b # variabelen c får verdien av a + b\n",
    "print(c) # skriver ut verdien av c  \n",
    "``` \n",
    "Variabler kan oppdateres med nye verdier.\n",
    "\n",
    "```python\n",
    "a = 5 # variabelen a får verdien 5\n",
    "a = a + 1 # variabelen a får verdien av a + 1\n",
    "print(a) # skriver ut den nye verdien av a\n",
    "```\n",
    "Programmet husker bare den siste verdien en variabel har fått.\n",
    "\n",
    "## Oppgave 5\n",
    "a) Prøv ut kodene over.\n",
    "\n",
    "b) Skriv et program som lager tre variabler f, k og p som viser hvor mange gram fett, karbohydrater og proteiner det er i en matvare. Lag en variabel E som regner ut hvor mye energi det er i matvaren. Energiinnholdet i fett er 37 kJ/g, karbohydrater er 17 kJ/g og proteiner er 17 kJ/g. Skriv ut energiinnholdet i matvaren.  \n",
    "\n",
    "\n",
    "**Utfordring:** Kan du skrive ut svaret med en setning som forklarer hva svaret betyr? Kan du skrive ut svaret med eneheter? Kan du skrive ut svaret både som kJ og kcal?\n"
   ]
  },
  {
   "cell_type": "code",
   "execution_count": null,
   "metadata": {},
   "outputs": [],
   "source": []
  },
  {
   "cell_type": "code",
   "execution_count": null,
   "metadata": {},
   "outputs": [],
   "source": []
  },
  {
   "cell_type": "markdown",
   "metadata": {},
   "source": [
    "# Input fra bruker\n",
    "Vi kan be brukeren om å skrive inn en verdi ved å bruke input() funksjonen. Input() funksjonen returnerer en tekststreng. Vi kan konvertere tekststrengen til et tall ved å bruke int() eller float() funksjonen. Du kan lese mer om input og datatyper i \"Innføring i Python\" i matematikkboken din.\n",
    "\n",
    "For å kunne skrive ut svar som blander utregninger og tekst, samt runder av svar, trenger også kort å vite hva en f-streng er. En f-streng er en tekststreng som kan inneholde variabler. Vi skriver f foran tekststrengen og bruker krøllparenteser for å legge inn variabler.\n",
    "\n",
    "## Eksempel på input og f-streng\n",
    "```python\n",
    "navn = input(\"Hva heter du? \")\n",
    "print(f\"Hei, {navn}!\")\n",
    "```\n",
    "## Eksempler på input av tall og f-streng med avrunding\n",
    "```python\n",
    "a = float(input(\"Skriv et deimaltall, husk punktum: \")) # konverterer tekststrengen til et desimaltall\n",
    "print(f\"Du skrev tallet {a:.2f}\") # skriver ut tallet med to desimaler\n",
    "```\n",
    "## Oppgave 6  \n",
    "Prøv ut kodene over. Hva skjer hvis du skriver inn et tall med komma i stedet for punktum? Hva skjer hvis du skriver inn et ord i stedet for et tall?\n"
   ]
  },
  {
   "cell_type": "code",
   "execution_count": null,
   "metadata": {},
   "outputs": [],
   "source": []
  },
  {
   "cell_type": "markdown",
   "metadata": {},
   "source": [
    "## Oppgave 7  \n",
    "Skriv et program som spør brukeren om å skrive inn antall gram fett, karbohydrater og proteiner i en matvare. Programmet skal regne ut energiinnholdet i matvaren og skrive ut svaret. Bruk f-streng for å skrive ut svaret med en setning som forklarer hva svaret betyr. Skriv ut svaret både i kJ og kcal.\n",
    "\n",
    "**PS:** Det er selvfølgelig lov med copy-paste fra tidligere oppgaver.\n"
   ]
  },
  {
   "cell_type": "code",
   "execution_count": null,
   "metadata": {},
   "outputs": [],
   "source": []
  },
  {
   "cell_type": "markdown",
   "metadata": {},
   "source": [
    "## Oppgave 8\n",
    "Du skal lage et program som regner ut basalforbrenningen i kcal. Basalforbrenning er hvor mye energi kroppen din trenger for å opprettholde livsviktige funksjoner i hvile. Basal forbrenning kan regnes ut med formelen: \n",
    "$$BMR = 10\\cdot vekt + 6,25\\cdot høyde - 5\\cdot alder + 5$$\n",
    "for menn og \n",
    "$$BMR = 10\\cdot vekt + 6,25\\cdot høyde - 5\\cdot alder - 161$$\n",
    "for kvinner. \n",
    "\n",
    "\n",
    "Skriv et program for ditt kjønn som spør brukeren om vekt, høyde og alder. Programmet skal regne ut basalforbrenningen og skrive ut svaret. Bruk f-streng for å skrive ut svaret med en setning som forklarer hva svaret betyr. \n",
    "\n"
   ]
  },
  {
   "cell_type": "code",
   "execution_count": null,
   "metadata": {},
   "outputs": [],
   "source": []
  },
  {
   "cell_type": "markdown",
   "metadata": {},
   "source": [
    "## Vilkår\n",
    "Vi kan bruke vilkår for å få programmet til å ta valg. Vi bruker if, elif og else for å lage vilkår. Vi kan også bruke sammenlikningsoperatorer for å sammenlikne tall og tekststrenger. Eksempler på sammenlikningsoperatorer er:  \n",
    "\n",
    "- likhet: ==   \n",
    "- ulikhet: !=  \n",
    "- mindre enn: <  \n",
    "- større enn: >  \n",
    "- mindre enn eller lik: <=  \n",
    "- større enn eller lik: >=\n",
    "\n",
    "\n",
    "## Eksempel på vilkår\n",
    "Siden formelen for basalforbrennning bare forholder seg til to kjønn kan vi bruke et vilkår for å sjekke hvilket kjønn brukeren har skrevet inn. Programmet vil skrive ut ulike meldinger avhengig av hvilket kjønn brukeren har skrevet inn.\n",
    "\n",
    "```python   \n",
    "kjønn = input(\"Hvilket kjønn er du? m/k \")  # ett likhetstegn er en tildeling til variablene \n",
    "\n",
    "if kjønn == \"m\":  # to likhetstegn er en sammenlikning, Vi spør, er de like?\n",
    "    print(\"Du er en gutt\")  # i såfall gjør programmet det som står her. Legg merke til innrykket.\n",
    "elif kjønn == \"k\":  # dersom vi ikke gikk inn i forrige vilkår, sjekker vi dette\n",
    "    print(\"Du er en jente\")  \n",
    "else:  # dersom ingen av alternativene over er sanne, gjør vi dette uansett.\n",
    "    print(\"Dette programmet godtar desverre bare m eller k som input.\") # om du synes denne meldingen er litt frekk, kan du skrive en bedre selv.  \n",
    "```\n",
    "\n",
    "## Oppgave 9\n",
    "a) Test ut koden over.  \n",
    "b) Berabeid koden fra oppgave 8 med eksempelet slik at programmet tar hensyn til kjønn. Programmet skal spørre brukeren om vekt, høyde, alder og kjønn. Programmet skal regne ut basalforbrenningen og skrive ut svaret. \n",
    "\n",
    "**Utfordring:**   \n",
    "Det er mulig å multiplisere basalforbennningen med en aktivitetsfaktor for å estiemere hvor mye energi man trenger i løpet av en dag. En aktivitetsfaktor på 1,2 er for lite aktiv, 1,5 er moderat aktiv og 1,7 er svært aktiv. Dersom man trener intensivt flere ganger om dagen kan man måtte bruke en faktor så høy som 1.9.  \n",
    "\n",
    "Kan du modifisere programmet slik at det regner ut hvor mye energi en person trenger i løpet av en dag baset på brukerinfo?\n"
   ]
  },
  {
   "cell_type": "code",
   "execution_count": null,
   "metadata": {},
   "outputs": [],
   "source": []
  },
  {
   "cell_type": "markdown",
   "metadata": {},
   "source": [
    "**NB** Vær oppmerksom på at beregningene over er forenklet og bygger på gjennomsnittstall for voksne. Ungdommer som vokser og utvikler seg trenger mer energi enn voksne, speisielt dersom de er aktive. \n",
    "\n",
    "Les gjerne saken om Maria som ødela en lysende svømmekarriere på grunn av for høyt fokus på kaloritelling. Som du ser av tittelen handler det også om alle kontoene som pusher matvideoer på sosiale medier.\n",
    "https://www.bt.no/familieogoppvekst/i/W0J2wK/matvideoer-paa-tiktok-og-instagram"
   ]
  },
  {
   "cell_type": "markdown",
   "metadata": {},
   "source": [
    "## Forklaring av program med trippel anførselstegn\n",
    "`\"\"\"` i starten og slutten av en tekststreng kan brukes for å skrive en lang tekststreng. Dette er nyttig for å skrive en forklaring av et program. \n",
    "\n",
    "```python\n",
    "\"\"\" \n",
    "Alt som står her er en kommentar og vil ikke bli kjørt av Python.\n",
    "Teksten vil komme opp om man trykker på hjelp i programmet.\n",
    "Her kan du skrive en forklaring av programmet ditt. \n",
    "Gi kilder til forfatter av programmet eller forklare hvor data kommer fra.\n",
    "Foklare hvilke verdier som er gyldige for programmet. m.m.\n",
    "\"\"\"\n",
    "print(\"Her nede begynner programmet\")\n",
    "```\n",
    "\n",
    "## BMI eller KMI\n",
    "Body Mass Index (BMI) eller Kroppsmasseindeks (KMI) er en formel noen mener kan brukes for å finne ut om en person har en sunn vekt i forhold til høyden. BMI er et omstridt mål for helse, men du kommer sikkert til støte på begrepet i sosiale medier og andre steder.\n",
    "\n",
    "**Før du begynner med koding.**   \n",
    "Gjør et internettsøk for å finne ut mer om hvorfor BMI er et problematisk mål for helse hos enkeltindivider.\n",
    "\n",
    "## Oppgave 10\n",
    "Du skal skrive et program som regner ut BMI.   \n",
    "a) Begynn med å skrive en forklaring av problemene med BMI og hvorfor men skal bruke det med forsiktighet. Husk å ramme inn forklaingen med `\"\"\"` som vist i eksempelet over.  \n",
    "b) Skriv et program som spør brukeren om vekt og høyde. Programmet skal regne ut BMI og skrive ut svaret.\n",
    "\n",
    "**Utfordring:**   \n",
    "Bruk vilkår for å skrive ut om BMI-verdien tilsvarer undervektig, normalvektig eller overvektig.  \n",
    "**NB** skriv samtidig ut en advarsel hvor du forlarer hvorfor en person som får \"normalvektg\" kan levet et usunt liv. Tilsvarende hvorfor en person som får utskriften \"overvektig\" eller \"undervektig\" likevel være sunn. "
   ]
  },
  {
   "cell_type": "code",
   "execution_count": null,
   "metadata": {},
   "outputs": [],
   "source": []
  },
  {
   "cell_type": "markdown",
   "metadata": {},
   "source": [
    "## Oppgave 11\n",
    "Gå tilbake til programmet du skrev i oppgave 9. Kan du finne kilder for formelen for basalforbrenning?  Klare du å finne ut hvordan man har kommet fram til foremelen? Finner du kilder som beskriver begrensningene ved formelen? Legg det fant til som en kommentar i starten programmet ditt innrammet av `\"\"\"`."
   ]
  },
  {
   "cell_type": "markdown",
   "metadata": {},
   "source": []
  }
 ],
 "metadata": {
  "kernelspec": {
   "display_name": "Python 3 (ipykernel)",
   "language": "python",
   "name": "python3"
  },
  "language_info": {
   "codemirror_mode": {
    "name": "ipython",
    "version": 3
   },
   "file_extension": ".py",
   "mimetype": "text/x-python",
   "name": "python",
   "nbconvert_exporter": "python",
   "pygments_lexer": "ipython3",
   "version": "3.11.10"
  }
 },
 "nbformat": 4,
 "nbformat_minor": 4
}
