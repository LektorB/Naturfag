{
 "cells": [
  {
   "cell_type": "markdown",
   "id": "3b8f015a-b066-4517-99a8-b3b7a7c14756",
   "metadata": {},
   "source": [
    "# Overlagring\n",
    "Programmet under lager en liten modell av to bølgepulser som møtes. \n",
    "Kjør koden og trykk på playknappen for å spill av.\n",
    "Stoppknappen reseter modellen og den siste knappen kjører modellen i loop.\n",
    "Bruk gliderene for å endre amplitude og bølgelengde til den ene pulsen. \n",
    "\n",
    "Hvordan må pulsene se ut for å få full utslukking i et lite øyeblikk?\n",
    "                                   "
   ]
  },
  {
   "cell_type": "code",
   "execution_count": 8,
   "id": "dfeb719c-2709-4894-a44e-e630c6bed618",
   "metadata": {},
   "outputs": [
    {
     "data": {
      "application/vnd.jupyter.widget-view+json": {
       "model_id": "912d6a479eab410583e7d98a4cbf75cb",
       "version_major": 2,
       "version_minor": 0
      },
      "text/plain": [
       "interactive(children=(FloatSlider(value=2.0, description='Amplitude', max=5.0, min=-5.0), FloatSlider(value=2.…"
      ]
     },
     "metadata": {},
     "output_type": "display_data"
    }
   ],
   "source": [
    "import numpy as np\n",
    "import matplotlib.pyplot as plt\n",
    "import ipywidgets as widgets\n",
    "\n",
    "def plot_linje(a,b,i):\n",
    "    b = (2*np.pi)/b\n",
    "    def f(x,i,b):\n",
    "        return np.piecewise(x, [x < i/10, (i/10<x) & (x<i/10 + (np.pi)/b),x>=i/10 + (np.pi)/b], \n",
    "                            [lambda x: 0, lambda x: a*np.sin(b*x-b*i/10),lambda x: 0])\n",
    "    def g(x,i,b=1,a=2):\n",
    "        return np.piecewise(x, [x < 10 - i/10 - (np.pi)/b, (10-i/10 - (np.pi)/b<x) & (x<10-i/10), x>=10 - i/10 ], \n",
    "                            [lambda x: 0, lambda x: -a*np.sin(b*x-b*(10-i/10)),lambda x: 0])\n",
    "   \n",
    "    \n",
    "    \n",
    "    x = np.linspace(0,10,300)\n",
    "    y = f(x,i,b)     \n",
    "    y2 = g(x,i) \n",
    "    plt.plot(x,y,'b')\n",
    "    plt.plot(x,y2+5,'b')\n",
    "    plt.plot(x,y+y2-5,'b')\n",
    "    plt.ylim(-10,10)\n",
    "\n",
    "widgets.interact(plot_linje, \n",
    "                 a=widgets.FloatSlider(min=-5, max=5, value=2, description='Amplitude'), \n",
    "                 b=widgets.FloatSlider(min=1, max=10, value=2,description='Bølgelengde'),\n",
    "                 i=widgets.Play(min=0, max=99,intervall = 1000)\n",
    "                );\n"
   ]
  },
  {
   "cell_type": "code",
   "execution_count": null,
   "id": "1adf2e95-deaf-4c96-861f-09e0e321a7cb",
   "metadata": {},
   "outputs": [],
   "source": []
  }
 ],
 "metadata": {
  "kernelspec": {
   "display_name": "Python 3 (ipykernel)",
   "language": "python",
   "name": "python3"
  },
  "language_info": {
   "codemirror_mode": {
    "name": "ipython",
    "version": 3
   },
   "file_extension": ".py",
   "mimetype": "text/x-python",
   "name": "python",
   "nbconvert_exporter": "python",
   "pygments_lexer": "ipython3",
   "version": "3.11.10"
  }
 },
 "nbformat": 4,
 "nbformat_minor": 5
}
